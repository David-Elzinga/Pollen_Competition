{
 "cells": [
  {
   "cell_type": "markdown",
   "id": "547d85e2",
   "metadata": {},
   "source": [
    "## Purpose\n",
    "\n",
    "This notebook is designed to generate the figures 2 - 6 found in the manuscript. "
   ]
  },
  {
   "cell_type": "code",
   "execution_count": null,
   "id": "209544cc",
   "metadata": {},
   "outputs": [],
   "source": [
    "import pingouin as pg\n",
    "import pickle\n",
    "import pandas as pd\n",
    "import os\n",
    "import matplotlib.pyplot as plt\n",
    "import ast\n",
    "from scipy import stats"
   ]
  },
  {
   "cell_type": "markdown",
   "id": "436e147a",
   "metadata": {},
   "source": [
    "### Figure 2\n",
    "\n",
    "PRCC plot. Dependent variable: Average (across the 10 repetitions) col siring proportion \\*. Independent variables: parameters from the LHS. \n",
    "\n",
    "\\* Repetitions with less than 10 fertilized ovules (in total) were discarded to match lab procedures. "
   ]
  },
  {
   "cell_type": "code",
   "execution_count": null,
   "id": "88f142b3",
   "metadata": {},
   "outputs": [],
   "source": [
    "# Load in the double accession data. \n",
    "cols = ['LHS-paramcombo-counter', 'count patches with [pcolor = yellow]','count patches with [pcolor = blue] / 6', 'count patches with [pcolor = red] / 6']\n",
    "fert_df = pd.read_csv(os.getcwd() + '\\\\Experiment Data\\\\calibration_data_double_accession', usecols = cols, skiprows=6, sep=',')\n",
    "\n",
    "# Modify column names \n",
    "fert_df = fert_df.rename(columns={'count patches with [pcolor = yellow]': 'num_unfert_ovules',\\\n",
    "     'count patches with [pcolor = blue] / 6': 'num_col_ovules', 'count patches with [pcolor = red] / 6': 'num_ler_ovules',\\\n",
    "     'LHS-paramcombo-counter': 'param_num'})"
   ]
  },
  {
   "cell_type": "code",
   "execution_count": null,
   "id": "ec87b97e",
   "metadata": {},
   "outputs": [],
   "source": [
    "# Remove repetitions with less than 10 fertilized ovules. \n",
    "fert_df = fert_df[fert_df['num_col_ovules'] + fert_df['num_ler_ovules'] >= 10]\n",
    "\n",
    "# Calculate the siring proportion of col among the fertilized ovules. \n",
    "fert_df.loc[:,'col_fert_prop'] = fert_df.num_col_ovules / (fert_df.num_col_ovules + fert_df.num_ler_ovules)\n",
    "\n",
    "# Group repetitions by their parameter number, calculate the mean siring proportion of col.\n",
    "siring_prop_col_df = fert_df.groupby('param_num').mean()"
   ]
  },
  {
   "cell_type": "code",
   "execution_count": null,
   "id": "a8924204",
   "metadata": {},
   "outputs": [],
   "source": [
    "# Read in the LHS, rename the columns.  \n",
    "LHS_df = pd.read_csv(os.getcwd() + '\\\\Experiment Data\\\\LHS.csv', sep=',', header=None)\n",
    "LHS_param_names = ['chemoattr. radius ler', 'chemoattr. radius col', 'initial energy', 'initial energy ler', 'initial energy col',\\\n",
    "     'max-energy harvest col', 'max-energy harvest ler', 'replenish-style', 'fert-threshold col', 'fert-threshold ler', 'prop fert cutoff',\\\n",
    "     'freq startch replenish', 'prop energy replenish', 'step size', 'movement cost ler', 'movement cost col', '$\\kappa$']\n",
    "LHS_df.columns = LHS_param_names\n",
    "\n",
    "# Create a combined_vars_df which holds the independent variables and the dependent variable (last column)\n",
    "combined_vars_df = LHS_df.loc[siring_prop_col_df.index.tolist()]\n",
    "combined_vars_df['siring_prop_col'] = siring_prop_col_df['col_fert_prop']\n",
    "\n",
    "# Rank transform the data. \n",
    "combined_vars_df = combined_vars_df.rank()"
   ]
  },
  {
   "cell_type": "code",
   "execution_count": null,
   "id": "27e43ca8",
   "metadata": {},
   "outputs": [],
   "source": [
    "# Perform the PRCC analysis. \n",
    "PRCC_df = combined_vars_df.pcorr().round(3)\n",
    "\n",
    "# Get the p-values of the analysis. \n",
    "pvals_df = combined_vars_df.rcorr().round(3)"
   ]
  },
  {
   "cell_type": "code",
   "execution_count": null,
   "id": "d003ea10",
   "metadata": {},
   "outputs": [],
   "source": [
    "# Show the pvalues so we can identify which ones are significant at the 0.01 level. \n",
    "pvals_df"
   ]
  },
  {
   "cell_type": "code",
   "execution_count": null,
   "id": "5c15fc55",
   "metadata": {},
   "outputs": [],
   "source": [
    "# Record the significant variables.\n",
    "sig_vars = ['chemoattr. radius ler', 'chemoattr. radius col', 'max-energy harvest col', \n",
    "            'max-energy harvest ler', 'fert-threshold ler', 'movement cost ler',\n",
    "           'movement cost col']"
   ]
  },
  {
   "cell_type": "code",
   "execution_count": null,
   "id": "3aa195a8",
   "metadata": {},
   "outputs": [],
   "source": [
    "# Create a dataframe to hold the values for the bar plot. \n",
    "plot_df = pd.DataFrame({'PRCC_val' : PRCC_df['siring_prop_col'][sig_vars]})\n",
    "\n",
    "fig = plot_df.plot.bar(rot = 0, color='black', legend=None)\n",
    "plt.rcParams[\"figure.figsize\"] = (5,5)\n",
    "fig.plot([-1,18], [0,0], color='black')\n",
    "fig.set_ylim(-1,1); fig.set_xticklabels(sig_vars, rotation = 90)\n",
    "fig.set_ylabel('PRCC against Avg. Col Prop. \\n of Fertilized Ovules', fontsize = 12)\n",
    "plt.tight_layout()\n",
    "plt.savefig('Figure2.pdf')\n",
    "plt.show()"
   ]
  },
  {
   "cell_type": "markdown",
   "id": "045b981c",
   "metadata": {},
   "source": [
    "### Figure 3ab\n",
    "\n",
    "Histogram of proportion of parameters against average (across the 10 repetitions) col siring proportion\\* within those parameters. \n",
    "\n",
    "\\* Repetitions with less than 10 fertilized ovules (in total) were discarded to match lab procedures. "
   ]
  },
  {
   "cell_type": "code",
   "execution_count": null,
   "id": "834c6cfa",
   "metadata": {},
   "outputs": [],
   "source": [
    "# Load in the double accession data. \n",
    "cols = ['LHS-paramcombo-counter', 'count patches with [pcolor = yellow]','count patches with [pcolor = blue] / 6', 'count patches with [pcolor = red] / 6']\n",
    "fert_df = pd.read_csv(os.getcwd() + '\\\\Experiment Data\\\\calibration_data_double_accession', usecols = cols, skiprows=6, sep=',')\n",
    "\n",
    "# Modify column names \n",
    "fert_df = fert_df.rename(columns={'count patches with [pcolor = yellow]': 'num_unfert_ovules',\\\n",
    "     'count patches with [pcolor = blue] / 6': 'num_col_ovules', 'count patches with [pcolor = red] / 6': 'num_ler_ovules',\\\n",
    "     'LHS-paramcombo-counter': 'param_num'})"
   ]
  },
  {
   "cell_type": "code",
   "execution_count": null,
   "id": "e63eebb7",
   "metadata": {},
   "outputs": [],
   "source": [
    "# Load in the MLFO and DFO rankings. \n",
    "MLFO_ranks = pickle.load(open(\"MLFO_ranks.pickle\",\"rb\"))\n",
    "DFO_ranks = pickle.load(open(\"DFO_ranks.pickle\",\"rb\"))"
   ]
  },
  {
   "cell_type": "code",
   "execution_count": null,
   "id": "bc341923",
   "metadata": {},
   "outputs": [],
   "source": [
    "# Remove repetitions with less than 10 fertilized ovules. \n",
    "fert_df = fert_df[fert_df['num_col_ovules'] + fert_df['num_ler_ovules'] >= 10]\n",
    "\n",
    "# Calculate the siring proportion of col among the fertilized ovules. \n",
    "fert_df.loc[:,'col_fert_prop'] = fert_df.num_col_ovules / (fert_df.num_col_ovules + fert_df.num_ler_ovules)\n",
    "\n",
    "# Group repetitions by their parameter number, calculate the mean siring proportion of col.\n",
    "siring_prop_col_df = fert_df.groupby('param_num').mean()"
   ]
  },
  {
   "cell_type": "code",
   "execution_count": null,
   "id": "7274b115",
   "metadata": {},
   "outputs": [],
   "source": [
    "plt.hist(siring_prop_col_df['col_fert_prop'], bins=15, density=True, alpha=0.3, label='All parameters')\n",
    "plt.hist(siring_prop_col_df.loc[siring_prop_col_df.index.intersection(MLFO_ranks.nsmallest(n=100).index.tolist()),'col_fert_prop'],\n",
    "         bins=15, density=True, alpha=0.3, label='MLFO Top 1%')\n",
    "plt.axvline(0.93012, color='green', label='Empirical')\n",
    "plt.axvline(siring_prop_col_df.loc[MLFO_ranks.nsmallest(n=1).index.tolist()]['col_fert_prop'].values, color='red',\n",
    "            label='Top parameter combo. (MLFO)')\n",
    "plt.axvline(siring_prop_col_df.loc[siring_prop_col_df.index.intersection(MLFO_ranks.nsmallest(n=100).index.tolist()),'col_fert_prop'].mean(),\n",
    "            color='purple', label='Mean MLFO Top 1%')\n",
    "plt.ylim(0,10)\n",
    "plt.xlabel('Avg Col Prop. of Fertilized Ovules', fontsize = 12); plt.ylabel('Prob. Density', fontsize = 12)\n",
    "plt.legend()\n",
    "plt.tight_layout()\n",
    "plt.savefig('Figure3a.pdf')\n",
    "plt.show()"
   ]
  },
  {
   "cell_type": "code",
   "execution_count": null,
   "id": "90c38731",
   "metadata": {},
   "outputs": [],
   "source": [
    "# Calculate a 95% CI for the top 100 calibration parameters estimation of the mean of col siring proportion.\n",
    "tube_data = siring_prop_col_df.loc[siring_prop_col_df.index.intersection(MLFO_ranks.nsmallest(n=100).index.tolist()),'col_fert_prop']\n",
    "stats.t.interval(0.95, len(tube_data) - 1, loc=tube_data.mean(), scale=stats.sem(tube_data))"
   ]
  },
  {
   "cell_type": "code",
   "execution_count": null,
   "id": "c955906a",
   "metadata": {},
   "outputs": [],
   "source": [
    "plt.hist(siring_prop_col_df['col_fert_prop'], bins=15, density=True, alpha=0.3, label='All parameters')\n",
    "plt.hist(siring_prop_col_df.loc[siring_prop_col_df.index.intersection(DFO_ranks.nsmallest(n=100).index.tolist()),'col_fert_prop'],\n",
    "         bins=15, density=True, alpha=0.3, label='DFO Top 1%')\n",
    "plt.axvline(0.93012, color='green', label='Empirical')\n",
    "plt.axvline(siring_prop_col_df.loc[DFO_ranks.nsmallest(n=1).index.tolist()]['col_fert_prop'].values, color='red',\n",
    "            label='Top parameter combo. (DFO)')\n",
    "plt.axvline(siring_prop_col_df.loc[siring_prop_col_df.index.intersection(DFO_ranks.nsmallest(n=100).index.tolist()),'col_fert_prop'].mean(),\n",
    "            color='purple', label='Mean DFO Top 1%')\n",
    "plt.ylim(0,10)\n",
    "plt.xlabel('Avg Col Prop. of Fertilized Ovules', fontsize = 12); plt.ylabel('Prob. Density', fontsize = 12)\n",
    "plt.legend()\n",
    "plt.tight_layout()\n",
    "plt.savefig('Figure3b.pdf')\n",
    "plt.show()"
   ]
  },
  {
   "cell_type": "code",
   "execution_count": null,
   "id": "f06e854f",
   "metadata": {},
   "outputs": [],
   "source": [
    "# Calculate a 95% CI for the top 100 calibration parameters estimation of the mean of col siring proportion.\n",
    "tube_data = siring_prop_col_df.loc[siring_prop_col_df.index.intersection(DFO_ranks.nsmallest(n=100).index.tolist()),'col_fert_prop']\n",
    "stats.t.interval(0.95, len(tube_data) - 1, loc=tube_data.mean(), scale=stats.sem(tube_data))"
   ]
  },
  {
   "cell_type": "markdown",
   "id": "d4677a44",
   "metadata": {},
   "source": [
    "### Figure 4a"
   ]
  },
  {
   "cell_type": "code",
   "execution_count": null,
   "id": "ed2367ad",
   "metadata": {},
   "outputs": [],
   "source": [
    "# Load in the single accession data. \n",
    "cols = ['LHS-paramcombo-counter', 'accession', 'r24L']\n",
    "single_acc_df = pd.read_csv(os.getcwd() + '\\\\Experiment Data\\\\calibration_data_single_accession', usecols = cols, skiprows=6, sep=',')"
   ]
  },
  {
   "cell_type": "code",
   "execution_count": null,
   "id": "abafc420",
   "metadata": {},
   "outputs": [],
   "source": [
    "# Load in the double accession data. \n",
    "cols = ['LHS-paramcombo-counter', 'r24L']\n",
    "double_acc_df = pd.read_csv(os.getcwd() + '\\\\Experiment Data\\\\calibration_data_double_accession', usecols = cols, skiprows=6, sep=',')"
   ]
  },
  {
   "cell_type": "code",
   "execution_count": null,
   "id": "5323cc68",
   "metadata": {},
   "outputs": [],
   "source": [
    "# Load in the MLFO and DFO rankings. \n",
    "MLFO_ranks = pickle.load(open(\"MLFO_ranks.pickle\",\"rb\"))\n",
    "DFO_ranks = pickle.load(open(\"DFO_ranks.pickle\",\"rb\"))"
   ]
  },
  {
   "cell_type": "code",
   "execution_count": null,
   "id": "c53cf9b1",
   "metadata": {},
   "outputs": [],
   "source": [
    "# Using the MLFO top parameter, plot the pollen tube \n",
    "MLFO_best_ler = single_acc_df[(single_acc_df['LHS-paramcombo-counter'] == MLFO_ranks.nsmallest(n=1).index.tolist()[0]) & (single_acc_df['accession'] == 'ler-only')]\n",
    "MLFO_best_double = double_acc_df[double_acc_df['LHS-paramcombo-counter'] == MLFO_ranks.nsmallest(n=1).index.tolist()[0]]"
   ]
  },
  {
   "cell_type": "code",
   "execution_count": null,
   "id": "0ae24461",
   "metadata": {},
   "outputs": [],
   "source": [
    "def tube_clean(tubes):\n",
    "    \n",
    "    # Inputs\n",
    "    # tubes - string object of space separated pollen tube lengths. \n",
    "    \n",
    "    # Outputs:\n",
    "    # tubes - numpy array of the input without zeros. \n",
    "\n",
    "    tubes = tubes.replace(\" \",\",\")\n",
    "    tubes = np.array(ast.literal_eval(tubes))\n",
    "    \n",
    "    if tubes.any() != 0:\n",
    "        new_tubes = tubes[np.nonzero(tubes)]\n",
    "    else:\n",
    "        new_tubes = []\n",
    "    \n",
    "    return new_tubes"
   ]
  },
  {
   "cell_type": "code",
   "execution_count": null,
   "id": "46b66224",
   "metadata": {},
   "outputs": [],
   "source": [
    "ler_alone_tubes = []\n",
    "col_and_ler_tubes = []\n",
    "for r in range(len(MLFO_best_ler)):\n",
    "    ler_alone_tubes = ler_alone_tubes + tube_clean(MLFO_best_ler.iloc[r].r24L).tolist()\n",
    "    col_and_ler_tubes = col_and_ler_tubes + tube_clean(MLFO_best_double.iloc[r].r24L).tolist()"
   ]
  },
  {
   "cell_type": "code",
   "execution_count": null,
   "id": "5d2dcb90",
   "metadata": {},
   "outputs": [],
   "source": [
    "bin_list = [0, 0.05, 0.1, 0.15, 0.2, 0.25, 0.3, 0.4, 0.5, 1.0]\n",
    "plt.hist(ler_alone_tubes, bins=bin_list, alpha=0.3, color='r', density=True, label='Ler alone')\n",
    "plt.hist(col_and_ler_tubes, bins=bin_list, alpha=0.3, color='k', density=True, label='Col and Ler')\n",
    "plt.rcParams[\"figure.figsize\"] = (5,5)\n",
    "plt.yscale('log')\n",
    "plt.ylabel('log(Prob. Density)', fontsize=12); plt.xlabel('Pollen tube length (mm)', fontsize=12)\n",
    "plt.legend()\n",
    "plt.tight_layout()\n",
    "plt.savefig('Figure4a.pdf')\n",
    "plt.show()"
   ]
  },
  {
   "cell_type": "markdown",
   "id": "f7ca189e",
   "metadata": {},
   "source": [
    "### Figure 4b"
   ]
  },
  {
   "cell_type": "code",
   "execution_count": null,
   "id": "016bc3d9",
   "metadata": {},
   "outputs": [],
   "source": [
    "# Load in the single accession data. \n",
    "cols = ['LHS-paramcombo-counter', 'accession', 'r3L', 'r6L', 'r9L', 'r24L']\n",
    "single_acc_df = pd.read_csv(os.getcwd() + '\\\\Experiment Data\\\\calibration_data_single_accession', usecols = cols, skiprows=6, sep=',')"
   ]
  },
  {
   "cell_type": "code",
   "execution_count": null,
   "id": "c4c95759",
   "metadata": {},
   "outputs": [],
   "source": [
    "# Load in the double accession data. \n",
    "cols = ['LHS-paramcombo-counter', 'r3L', 'r6L', 'r9L', 'r24L']\n",
    "double_acc_df = pd.read_csv(os.getcwd() + '\\\\Experiment Data\\\\calibration_data_double_accession', usecols = cols, skiprows=6, sep=',')"
   ]
  },
  {
   "cell_type": "code",
   "execution_count": null,
   "id": "949e3d80",
   "metadata": {},
   "outputs": [],
   "source": [
    "# Load in the MLFO and DFO rankings. \n",
    "MLFO_ranks = pickle.load(open(\"MLFO_ranks.pickle\",\"rb\"))\n",
    "DFO_ranks = pickle.load(open(\"DFO_ranks.pickle\",\"rb\"))"
   ]
  },
  {
   "cell_type": "code",
   "execution_count": null,
   "id": "0356d053",
   "metadata": {},
   "outputs": [],
   "source": [
    "def tube_clean(tubes):\n",
    "    \n",
    "    # Inputs\n",
    "    # tubes - string object of space separated pollen tube lengths. \n",
    "    \n",
    "    # Outputs:\n",
    "    # tubes - numpy array of the input without zeros. \n",
    "\n",
    "    tubes = tubes.replace(\" \",\",\")\n",
    "    tubes = np.array(ast.literal_eval(tubes))\n",
    "    \n",
    "    if tubes.any() != 0:\n",
    "        new_tubes = tubes[np.nonzero(tubes)]\n",
    "    else:\n",
    "        new_tubes = []\n",
    "    \n",
    "    return new_tubes"
   ]
  },
  {
   "cell_type": "code",
   "execution_count": null,
   "id": "bc078b08",
   "metadata": {},
   "outputs": [],
   "source": [
    "# Create a list of lists with the following: each row corresponds to a parameter combination, an each entry is:\n",
    "# pval of KS test trying to detect difference between the distribution of Ler pollen tube lengths without Col\n",
    "# vs with Col when combining all repetitions at 3 hours post-germination. \n",
    "# 1, 2, 3, are the same but at 6, 9, and 24 hours post-germination. \n",
    "\n",
    "intf_MLFO_results = []\n",
    "# Iterate through each parameter. \n",
    "for p in range(100):\n",
    "    \n",
    "    if p % 10 == 0:\n",
    "        print(str(p) + '%')\n",
    "        \n",
    "    # Identify the correct parameter number from its ranking.  \n",
    "    ler_wo_col_runs = single_acc_df[(single_acc_df['LHS-paramcombo-counter'] == MLFO_ranks.nsmallest(n=p+1).index.tolist()[-1]) & (single_acc_df['accession'] == 'ler-only')]\n",
    "    ler_w_col_runs = double_acc_df[double_acc_df['LHS-paramcombo-counter'] == MLFO_ranks.nsmallest(n=p+1).index.tolist()[-1]]\n",
    "    \n",
    "    # Create a list to hold the pvalues for this parameter combination at the three different times. \n",
    "    pvals = []\n",
    "    \n",
    "    # Perform the following for each time frame. \n",
    "    for n, t in enumerate([3, 6, 9, 24]): \n",
    "        \n",
    "        # Iterate through the subset dataframe, clean the tube lengths, organizing them based on if Col was present.\n",
    "        ler_lengths_w_col = []\n",
    "        ler_lengths_wo_col = []\n",
    "        for r in range(len(ler_w_col_runs)):\n",
    "            ler_lengths_w_col = ler_lengths_w_col + list(tube_clean(ler_wo_col_runs.iloc[r]['r' + str(t) + 'L']))\n",
    "        for r in range(len(ler_wo_col_runs)):\n",
    "            ler_lengths_wo_col = ler_lengths_wo_col + list(tube_clean(ler_w_col_runs.iloc[r]['r' + str(t) + 'L']))\n",
    "        \n",
    "        # Now conduct a two-sample KS test. \n",
    "        pvals.append(stats.ks_2samp(ler_lengths_w_col, ler_lengths_wo_col, alternative='less')[1])\n",
    "    \n",
    "    # Append the results for the four time values to the larger df holding the results. \n",
    "    intf_MLFO_results.append(pvals)"
   ]
  },
  {
   "cell_type": "code",
   "execution_count": null,
   "id": "386c544a",
   "metadata": {},
   "outputs": [],
   "source": [
    "# Repeat process for DFO\n",
    "\n",
    "intf_DFO_results = []\n",
    "# Iterate through each parameter. \n",
    "for p in range(100):\n",
    "    \n",
    "    if p % 10 == 0:\n",
    "        print(str(p) + '%')\n",
    "        \n",
    "    # Identify the correct parameter number from its ranking.  \n",
    "    ler_wo_col_runs = single_acc_df[(single_acc_df['LHS-paramcombo-counter'] == DFO_ranks.nsmallest(n=p+1).index.tolist()[-1]) & (single_acc_df['accession'] == 'ler-only')]\n",
    "    ler_w_col_runs = double_acc_df[double_acc_df['LHS-paramcombo-counter'] == DFO_ranks.nsmallest(n=p+1).index.tolist()[-1]]\n",
    "    \n",
    "    # Create a list to hold the pvalues for this parameter combination at the three different times. \n",
    "    pvals = []\n",
    "    \n",
    "    # Perform the following for each time frame. \n",
    "    for n, t in enumerate([3, 6, 9, 24]): \n",
    "        \n",
    "        # Iterate through the subset dataframe, clean the tube lengths, organizing them based on if Col was present.\n",
    "        ler_lengths_w_col = []\n",
    "        ler_lengths_wo_col = []\n",
    "        for r in range(len(ler_w_col_runs)):\n",
    "            ler_lengths_w_col = ler_lengths_w_col + list(tube_clean(ler_wo_col_runs.iloc[r]['r' + str(t) + 'L']))\n",
    "        for r in range(len(ler_wo_col_runs)):\n",
    "            ler_lengths_wo_col = ler_lengths_wo_col + list(tube_clean(ler_w_col_runs.iloc[r]['r' + str(t) + 'L']))\n",
    "        \n",
    "        # Now conduct a two-sample KS test. \n",
    "        pvals.append(stats.ks_2samp(ler_lengths_w_col, ler_lengths_wo_col, alternative='less')[1])\n",
    "    \n",
    "    # Append the results for the four time values to the larger df holding the results. \n",
    "    intf_DFO_results.append(pvals)"
   ]
  },
  {
   "cell_type": "code",
   "execution_count": null,
   "id": "e84674e6",
   "metadata": {},
   "outputs": [],
   "source": [
    "# Use Holm-Bonferroni\n",
    "num_sig_MLFO = []\n",
    "num_sig_DFO = []\n",
    "for t in range(4):\n",
    "    num_sig_MLFO.append(np.sum(np.sort(np.array(intf_MLFO_results)[:,t]) < 0.05/(101 - np.arange(1,101,1) + 1)))\n",
    "    num_sig_DFO.append(np.sum(np.sort(np.array(intf_DFO_results)[:,t]) < 0.05/(101 - np.arange(1,101,1) + 1)))"
   ]
  },
  {
   "cell_type": "code",
   "execution_count": null,
   "id": "e7f2fb99",
   "metadata": {},
   "outputs": [],
   "source": [
    "intf_plot_df = pd.DataFrame({'MLFO' : num_sig_MLFO,\n",
    "                             'DFO' : num_sig_DFO},\n",
    "                            index = ['3hrs', '6hrs', '9hrs', '24hrs'])\n",
    "\n",
    "\n",
    "fig = intf_plot_df.plot.bar(rot = 0)\n",
    "plt.rcParams[\"figure.figsize\"] = (5,5)\n",
    "fig.set_ylim(0,105)\n",
    "fig.set_xlabel('Number of hours post-germination', fontsize = 12)\n",
    "fig.set_ylabel('Number of parameter combinations \\n with Interference', fontsize = 12)\n",
    "fig.legend(loc='upper left')\n",
    "for p in fig.patches:\n",
    "    fig.annotate(np.round(p.get_height(),decimals=2),(p.get_x()+p.get_width()/2., p.get_height()), ha='center', va='center', xytext=(0, 10), textcoords='offset points')\n",
    "fig.set_yticks = [50, 60, 70, 80, 90, 100]  \n",
    "fig.set_yticklabels = ['50', '60', '70', '80', '90', '100'] \n",
    "plt.tight_layout()\n",
    "plt.savefig('Figure4b.pdf')\n",
    "plt.show()"
   ]
  },
  {
   "cell_type": "markdown",
   "id": "b5c7d3f1",
   "metadata": {},
   "source": [
    "### Figure 5ab"
   ]
  },
  {
   "cell_type": "code",
   "execution_count": null,
   "id": "519a0e24",
   "metadata": {},
   "outputs": [],
   "source": [
    "# Read in the interference data for both calibrations, store them in data frames. \n",
    "cols = ['prop-ler', 'count patches with [pcolor = yellow]', 'count patches with [pcolor = blue] / 6', 'count patches with [pcolor = red] / 6']\n",
    "lerdom_MLFO_df = pd.read_csv(os.getcwd() + '\\\\Experiment Data\\\\ler_dominance_data_MLFO.csv', usecols=cols, skiprows=6, sep=',')\n",
    "lerdom_DFO_df = pd.read_csv(os.getcwd() + '\\\\Experiment Data\\\\ler_dominance_data_DFO.csv', usecols=cols, skiprows=6, sep=',')\n",
    "\n",
    "# Modify column names \n",
    "lerdom_MLFO_df = lerdom_MLFO_df.rename(columns={'count patches with [pcolor = yellow]': 'num_unfert_ovules',\\\n",
    "     'count patches with [pcolor = blue] / 6': 'num_col_ovules', 'count patches with [pcolor = red] / 6': 'num_ler_ovules',\\\n",
    "     'LHS-paramcombo-counter': 'param_num'})\n",
    "lerdom_DFO_df = lerdom_DFO_df.rename(columns={'count patches with [pcolor = yellow]': 'num_unfert_ovules',\\\n",
    "     'count patches with [pcolor = blue] / 6': 'num_col_ovules', 'count patches with [pcolor = red] / 6': 'num_ler_ovules',\\\n",
    "     'LHS-paramcombo-counter': 'param_num'})"
   ]
  },
  {
   "cell_type": "code",
   "execution_count": null,
   "id": "c57d6b03",
   "metadata": {},
   "outputs": [],
   "source": [
    "# Remove repetitions with less than 10 fertilized ovules. \n",
    "lerdom_MLFO_df = lerdom_MLFO_df[lerdom_MLFO_df['num_col_ovules'] + lerdom_MLFO_df['num_ler_ovules'] >= 10]\n",
    "lerdom_DFO_df = lerdom_DFO_df[lerdom_DFO_df['num_col_ovules'] + lerdom_DFO_df['num_ler_ovules'] >= 10]\n",
    "\n",
    "# Calculate the proportion of siring that ler produces. \n",
    "lerdom_MLFO_df['ler_sire_prop'] = lerdom_MLFO_df['num_ler_ovules'] / (lerdom_MLFO_df['num_col_ovules'] + lerdom_MLFO_df['num_ler_ovules'])\n",
    "lerdom_DFO_df['ler_sire_prop'] = lerdom_DFO_df['num_ler_ovules'] / (lerdom_DFO_df['num_col_ovules'] + lerdom_DFO_df['num_ler_ovules'])"
   ]
  },
  {
   "cell_type": "code",
   "execution_count": null,
   "id": "5473ec64",
   "metadata": {},
   "outputs": [],
   "source": [
    "# Iterate through the proportions of ler that are placed, calculate the sample mean and the confidence interval (95%)\n",
    "# for the population mean of ler proportion. \n",
    "sample_mean = []\n",
    "upper95 = []\n",
    "lower95 = []\n",
    "ler_props = [0.5, 0.52, 0.54, 0.56, 0.58, 0.6, 0.62, 0.64, 0.66, 0.68, 0.70, 0.72, 0.74, 0.76, 0.78, 0.8, 0.82, 0.84, 0.86, 0.88, 0.9, 0.92, 0.94, 0.96, 0.98]\n",
    "for p in ler_props:\n",
    "    prop_data = lerdom_MLFO_df[lerdom_MLFO_df['prop-ler'] == p].ler_sire_prop\n",
    "    sample_mean.append(prop_data.mean())\n",
    "    ci_nums = stats.t.interval(0.95, len(prop_data) - 1, loc=prop_data.mean(), scale=stats.sem(prop_data))\n",
    "    upper95.append(ci_nums[1]); lower95.append(ci_nums[0])\n",
    "    \n",
    "ler_props.append(1); sample_mean.append(1); upper95.append(1); lower95.append(1)"
   ]
  },
  {
   "cell_type": "code",
   "execution_count": null,
   "id": "61863e04",
   "metadata": {},
   "outputs": [],
   "source": [
    "plt.xlabel(\"Ler Pollination Proportion\", fontsize = 15)\n",
    "plt.ylabel(\"Ler Fertilization Proportion\", fontsize = 15)\n",
    "inital_ler_props = np.linspace(0.5,1,26)\n",
    "plt.ylim(0,1.1)\n",
    "plt.plot(ler_props,sample_mean, label='Model mean')\n",
    "plt.fill_between(ler_props,lower95,upper95,alpha=0.3, color='r',label='95% CI')\n",
    "plt.hlines(0.5, 0.5, 0.935,linestyles='dashed',color='g',label='Equal Sire Prop.')\n",
    "plt.vlines(0.935,0,0.5,linestyles='dashed',color='g')\n",
    "plt.plot(0.8, 1-0.56,'kd',label='Empirical $\\pm$ 2SE'); plt.errorbar(0.8, 1-0.56, 2*0.14269/3, color='black')\n",
    "plt.plot(0.94, 1-0.26,'kd'); plt.errorbar(0.94, 1-0.26, 2*0.14671/3, color='black')\n",
    "\n",
    "plt.legend()\n",
    "plt.yticks([0, 0.1, 0.2, 0.3, 0.4, 0.5, 0.6, 0.7, 0.8, 0.9, 1.0])\n",
    "plt.xticks([0.5, 0.6, 0.7, 0.8, 0.9, 0.935, 1.0],labels=[0.5, 0.6, 0.7, 0.8, 0.9, 0.935, 1.0],rotation =90)\n",
    "plt.tight_layout()\n",
    "plt.savefig('Figure5a.pdf')\n",
    "plt.show()"
   ]
  },
  {
   "cell_type": "code",
   "execution_count": null,
   "id": "354f319c",
   "metadata": {},
   "outputs": [],
   "source": [
    "# Iterate through the proportions of ler that are placed, calculate the sample mean and the confidence interval (95%)\n",
    "# for the population mean of ler proportion. \n",
    "sample_mean = []\n",
    "upper95 = []\n",
    "lower95 = []\n",
    "ler_props = [0.5, 0.52, 0.54, 0.56, 0.58, 0.6, 0.62, 0.64, 0.66, 0.68, 0.70, 0.72, 0.74, 0.76, 0.78, 0.8, 0.82, 0.84, 0.86, 0.88, 0.9, 0.92, 0.94, 0.96, 0.98]\n",
    "for p in ler_props:\n",
    "    prop_data = lerdom_DFO_df[lerdom_DFO_df['prop-ler'] == p].ler_sire_prop\n",
    "    sample_mean.append(prop_data.mean())\n",
    "    ci_nums = stats.t.interval(0.95, len(prop_data) - 1, loc=prop_data.mean(), scale=stats.sem(prop_data))\n",
    "    upper95.append(ci_nums[1]); lower95.append(ci_nums[0])\n",
    "    \n",
    "ler_props.append(1); sample_mean.append(1); upper95.append(1); lower95.append(1)"
   ]
  },
  {
   "cell_type": "code",
   "execution_count": null,
   "id": "b2794ece",
   "metadata": {},
   "outputs": [],
   "source": [
    "plt.xlabel(\"Ler Pollination Proportion\", fontsize = 15)\n",
    "plt.ylabel(\"Ler Fertilization Proportion\", fontsize = 15)\n",
    "inital_ler_props = np.linspace(0.5,1,26)\n",
    "plt.ylim(0,1.1)\n",
    "plt.plot(ler_props,sample_mean, label='Model mean')\n",
    "plt.fill_between(ler_props,lower95,upper95,alpha=0.3, color='r',label='95% CI')\n",
    "plt.hlines(0.5, 0.5, 0.84,linestyles='dashed',color='g')\n",
    "plt.vlines(0.84,0,0.5,linestyles='dashed',color='g', label='Equal Sire Prop.')\n",
    "\n",
    "plt.plot(0.8, 1-0.56,'kd',label='Empirical $\\pm$ 2SE'); plt.errorbar(0.8, 1-0.56, 2*0.14269/3, color='black')\n",
    "plt.plot(0.94, 1-0.26,'kd'); plt.errorbar(0.94, 1-0.26, 2*0.14671/3, color='black')\n",
    "\n",
    "plt.legend()\n",
    "plt.yticks([0, 0.1, 0.2, 0.3, 0.4, 0.5, 0.6, 0.7, 0.8, 0.9, 1.0])\n",
    "plt.xticks([0.5, 0.6, 0.7, 0.8, 0.84, 0.9, 1.0],labels=[0.5, 0.6, 0.7, 0.8, 0.84, 0.9, 1.0], rotation =90)\n",
    "plt.tight_layout()\n",
    "plt.savefig('Figure5b.pdf')\n",
    "plt.show()"
   ]
  }
 ],
 "metadata": {
  "kernelspec": {
   "display_name": "Python 3",
   "language": "python",
   "name": "python3"
  },
  "language_info": {
   "codemirror_mode": {
    "name": "ipython",
    "version": 3
   },
   "file_extension": ".py",
   "mimetype": "text/x-python",
   "name": "python",
   "nbconvert_exporter": "python",
   "pygments_lexer": "ipython3",
   "version": "3.8.10"
  }
 },
 "nbformat": 4,
 "nbformat_minor": 5
}
